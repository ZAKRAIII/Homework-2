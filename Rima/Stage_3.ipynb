{
 "cells": [
  {
   "cell_type": "code",
   "execution_count": 1,
   "id": "ab016429",
   "metadata": {
    "cell_id": "10d47f48-55af-4a2d-b8b1-f73d29aedf10",
    "deepnote_cell_type": "code",
    "deepnote_to_be_reexecuted": false,
    "execution_millis": 978911,
    "execution_start": 1645026833081,
    "source_hash": "e5d3d2c5"
   },
   "outputs": [],
   "source": [
    "import pandas as pd\n",
    "import numpy as np\n",
    "import seaborn as sns\n",
    "import matplotlib\n",
    "import matplotlib.pyplot as plt\n",
    "from sklearn.preprocessing import MinMaxScaler, StandardScaler\n",
    "import scipy.stats as st"
   ]
  },
  {
   "cell_type": "code",
   "execution_count": 2,
   "id": "8b42878f",
   "metadata": {
    "cell_id": "00001-eadd70a5-b9e6-4c74-bf93-1eef836dae0e",
    "deepnote_cell_type": "code",
    "deepnote_to_be_reexecuted": false,
    "execution_millis": 976252,
    "execution_start": 1645026833082,
    "source_hash": "a3027c50"
   },
   "outputs": [],
   "source": [
    "from matplotlib import rcParams\n",
    "\n",
    "rcParams['figure.figsize'] = 15, 8\n",
    "rcParams['lines.linewidth'] = 3\n",
    "rcParams['xtick.labelsize'] = 'x-large'\n",
    "rcParams['ytick.labelsize'] = 'x-large'\n",
    "rcParams['font.size'] = '16'"
   ]
  },
  {
   "cell_type": "code",
   "execution_count": 3,
   "id": "715545a2",
   "metadata": {
    "cell_id": "00002-f7c42896-0db8-4868-86c8-d8f4c065b961",
    "deepnote_cell_type": "code",
    "deepnote_to_be_reexecuted": false,
    "execution_millis": 12,
    "execution_start": 1645026833082,
    "source_hash": "c6a0dfc0"
   },
   "outputs": [],
   "source": [
    "df_real = pd.read_csv('E-Commerce Shipping Data.csv')"
   ]
  },
  {
   "cell_type": "code",
   "execution_count": 6,
   "id": "a5446e96",
   "metadata": {
    "cell_id": "00003-16055fdf-20dc-4f12-a4c1-0b2394d4f090",
    "deepnote_cell_type": "code",
    "deepnote_output_heights": [
     382.1875
    ],
    "deepnote_to_be_reexecuted": false,
    "execution_millis": 102,
    "execution_start": 1645026833147,
    "source_hash": "e73e4c5f"
   },
   "outputs": [
    {
     "data": {
      "text/html": [
       "<div>\n",
       "<style scoped>\n",
       "    .dataframe tbody tr th:only-of-type {\n",
       "        vertical-align: middle;\n",
       "    }\n",
       "\n",
       "    .dataframe tbody tr th {\n",
       "        vertical-align: top;\n",
       "    }\n",
       "\n",
       "    .dataframe thead th {\n",
       "        text-align: right;\n",
       "    }\n",
       "</style>\n",
       "<table border=\"1\" class=\"dataframe\">\n",
       "  <thead>\n",
       "    <tr style=\"text-align: right;\">\n",
       "      <th></th>\n",
       "      <th>ID</th>\n",
       "      <th>Warehouse_block</th>\n",
       "      <th>Mode_of_Shipment</th>\n",
       "      <th>Customer_care_calls</th>\n",
       "      <th>Customer_rating</th>\n",
       "      <th>Cost_of_the_Product</th>\n",
       "      <th>Prior_purchases</th>\n",
       "      <th>Product_importance</th>\n",
       "      <th>Gender</th>\n",
       "      <th>Discount_offered</th>\n",
       "      <th>Weight_in_gms</th>\n",
       "      <th>Reached.on.Time_Y.N</th>\n",
       "    </tr>\n",
       "  </thead>\n",
       "  <tbody>\n",
       "    <tr>\n",
       "      <th>10994</th>\n",
       "      <td>10995</td>\n",
       "      <td>A</td>\n",
       "      <td>Ship</td>\n",
       "      <td>4</td>\n",
       "      <td>1</td>\n",
       "      <td>252</td>\n",
       "      <td>5</td>\n",
       "      <td>medium</td>\n",
       "      <td>F</td>\n",
       "      <td>1</td>\n",
       "      <td>1538</td>\n",
       "      <td>1</td>\n",
       "    </tr>\n",
       "    <tr>\n",
       "      <th>10995</th>\n",
       "      <td>10996</td>\n",
       "      <td>B</td>\n",
       "      <td>Ship</td>\n",
       "      <td>4</td>\n",
       "      <td>1</td>\n",
       "      <td>232</td>\n",
       "      <td>5</td>\n",
       "      <td>medium</td>\n",
       "      <td>F</td>\n",
       "      <td>6</td>\n",
       "      <td>1247</td>\n",
       "      <td>0</td>\n",
       "    </tr>\n",
       "    <tr>\n",
       "      <th>10996</th>\n",
       "      <td>10997</td>\n",
       "      <td>C</td>\n",
       "      <td>Ship</td>\n",
       "      <td>5</td>\n",
       "      <td>4</td>\n",
       "      <td>242</td>\n",
       "      <td>5</td>\n",
       "      <td>low</td>\n",
       "      <td>F</td>\n",
       "      <td>4</td>\n",
       "      <td>1155</td>\n",
       "      <td>0</td>\n",
       "    </tr>\n",
       "    <tr>\n",
       "      <th>10997</th>\n",
       "      <td>10998</td>\n",
       "      <td>F</td>\n",
       "      <td>Ship</td>\n",
       "      <td>5</td>\n",
       "      <td>2</td>\n",
       "      <td>223</td>\n",
       "      <td>6</td>\n",
       "      <td>medium</td>\n",
       "      <td>M</td>\n",
       "      <td>2</td>\n",
       "      <td>1210</td>\n",
       "      <td>0</td>\n",
       "    </tr>\n",
       "    <tr>\n",
       "      <th>10998</th>\n",
       "      <td>10999</td>\n",
       "      <td>D</td>\n",
       "      <td>Ship</td>\n",
       "      <td>2</td>\n",
       "      <td>5</td>\n",
       "      <td>155</td>\n",
       "      <td>5</td>\n",
       "      <td>low</td>\n",
       "      <td>F</td>\n",
       "      <td>6</td>\n",
       "      <td>1639</td>\n",
       "      <td>0</td>\n",
       "    </tr>\n",
       "  </tbody>\n",
       "</table>\n",
       "</div>"
      ],
      "text/plain": [
       "          ID Warehouse_block Mode_of_Shipment  Customer_care_calls  \\\n",
       "10994  10995               A             Ship                    4   \n",
       "10995  10996               B             Ship                    4   \n",
       "10996  10997               C             Ship                    5   \n",
       "10997  10998               F             Ship                    5   \n",
       "10998  10999               D             Ship                    2   \n",
       "\n",
       "       Customer_rating  Cost_of_the_Product  Prior_purchases  \\\n",
       "10994                1                  252                5   \n",
       "10995                1                  232                5   \n",
       "10996                4                  242                5   \n",
       "10997                2                  223                6   \n",
       "10998                5                  155                5   \n",
       "\n",
       "      Product_importance Gender  Discount_offered  Weight_in_gms  \\\n",
       "10994             medium      F                 1           1538   \n",
       "10995             medium      F                 6           1247   \n",
       "10996                low      F                 4           1155   \n",
       "10997             medium      M                 2           1210   \n",
       "10998                low      F                 6           1639   \n",
       "\n",
       "       Reached.on.Time_Y.N  \n",
       "10994                    1  \n",
       "10995                    0  \n",
       "10996                    0  \n",
       "10997                    0  \n",
       "10998                    0  "
      ]
     },
     "execution_count": 6,
     "metadata": {},
     "output_type": "execute_result"
    }
   ],
   "source": [
    "df_real.tail()"
   ]
  },
  {
   "cell_type": "markdown",
   "id": "ab48c33c",
   "metadata": {
    "cell_id": "00004-4f23784a-9a62-4811-bbd8-601f07ea3713",
    "deepnote_cell_type": "markdown"
   },
   "source": [
    "# Rename reach on time to `is_shipping_late`"
   ]
  },
  {
   "cell_type": "code",
   "execution_count": 7,
   "id": "fec3d239",
   "metadata": {
    "cell_id": "00005-a2912760-8094-449c-8301-d150560d1232",
    "deepnote_cell_type": "code",
    "deepnote_to_be_reexecuted": false,
    "execution_millis": 10,
    "execution_start": 1645026833253,
    "source_hash": "e92f9ebe"
   },
   "outputs": [],
   "source": [
    "df = df_real.copy()\n",
    "df.rename(columns={'Reached.on.Time_Y.N':'is_shipping_late'}, inplace=True)"
   ]
  },
  {
   "cell_type": "code",
   "execution_count": 8,
   "id": "24abbae3",
   "metadata": {
    "cell_id": "00006-8f92d37d-46ef-4d69-bdc9-101e0a85e66a",
    "deepnote_cell_type": "code",
    "deepnote_to_be_reexecuted": false,
    "execution_millis": 4,
    "execution_start": 1645026833268,
    "source_hash": "68743c1e"
   },
   "outputs": [],
   "source": [
    "numerical = ['Customer_care_calls', 'Cost_of_the_Product', 'Discount_offered', 'Weight_in_gms']\n",
    "categorical = ['Warehouse_block', 'Mode_of_Shipment', 'Customer_rating', \n",
    "               'Prior_purchases', 'Product_importance', 'Gender', 'is_shipping_late']"
   ]
  },
  {
   "cell_type": "markdown",
   "id": "f42dec9b",
   "metadata": {
    "cell_id": "00007-d81750ae-e2e2-4db7-b3d5-ae06f08f2d61",
    "deepnote_cell_type": "markdown"
   },
   "source": [
    "# Target dari dataset\n",
    "\n",
    "- Reached.on.Time_Y.N"
   ]
  },
  {
   "cell_type": "code",
   "execution_count": 9,
   "id": "5edaf2de",
   "metadata": {
    "cell_id": "00008-8fc75451-b257-4f83-be4f-a8be04466180",
    "deepnote_cell_type": "code",
    "deepnote_output_heights": [
     556.96875
    ],
    "deepnote_to_be_reexecuted": false,
    "execution_millis": 176,
    "execution_start": 1645026833320,
    "source_hash": "ad61dedf"
   },
   "outputs": [
    {
     "data": {
      "image/png": "[encoded data removed]",
      "text/plain": [
       "<Figure size 1080x576 with 1 Axes>"
      ]
     },
     "metadata": {},
     "output_type": "display_data"
    }
   ],
   "source": [
    "delay=pd.DataFrame(df.groupby(['is_shipping_late'])['ID'].count()/len(df)).reset_index()\n",
    "plt.pie(delay['ID'],labels=delay['is_shipping_late'],autopct='%1.2f%%')\n",
    "plt.title('Target Berdasarkan Masalah is_Shipping_Late')\n",
    "\n",
    "plt.tight_layout()"
   ]
  },
  {
   "cell_type": "markdown",
   "id": "8414a480",
   "metadata": {
    "cell_id": "00009-8c87bc63-bcaf-45a2-948b-ee45623070fd",
    "deepnote_cell_type": "markdown"
   },
   "source": [
    "# Missing Data"
   ]
  },
  {
   "cell_type": "code",
   "execution_count": 10,
   "id": "34337f80",
   "metadata": {
    "cell_id": "00010-cae8a887-2a43-4c8d-8d3c-1909c27c733d",
    "deepnote_cell_type": "code",
    "deepnote_output_heights": [
     251.609375
    ],
    "deepnote_to_be_reexecuted": false,
    "execution_millis": 3,
    "execution_start": 1645026833540,
    "source_hash": "d794f466"
   },
   "outputs": [
    {
     "data": {
      "text/plain": [
       "ID                     0\n",
       "Warehouse_block        0\n",
       "Mode_of_Shipment       0\n",
       "Customer_care_calls    0\n",
       "Customer_rating        0\n",
       "Cost_of_the_Product    0\n",
       "Prior_purchases        0\n",
       "Product_importance     0\n",
       "Gender                 0\n",
       "Discount_offered       0\n",
       "Weight_in_gms          0\n",
       "is_shipping_late       0\n",
       "dtype: int64"
      ]
     },
     "execution_count": 10,
     "metadata": {},
     "output_type": "execute_result"
    }
   ],
   "source": [
    "df.isna().sum()"
   ]
  },
  {
   "cell_type": "markdown",
   "id": "3179f33b",
   "metadata": {
    "cell_id": "00011-61d6e2ed-878b-444f-8ab3-52495f9572a8",
    "deepnote_cell_type": "markdown"
   },
   "source": [
    "- Tidak terdapat missing value pada data"
   ]
  },
  {
   "cell_type": "markdown",
   "id": "1aeb34eb",
   "metadata": {
    "cell_id": "00012-804198e6-b78e-4fa7-80d4-ae02ab2f8769",
    "deepnote_cell_type": "markdown"
   },
   "source": [
    "# Duplicated Data"
   ]
  },
  {
   "cell_type": "code",
   "execution_count": 11,
   "id": "b1e4be8b",
   "metadata": {
    "cell_id": "00013-1a399c62-2b97-4a67-ba05-99de06be2212",
    "deepnote_cell_type": "code",
    "deepnote_output_heights": [
     21.1875
    ],
    "deepnote_to_be_reexecuted": false,
    "execution_millis": 44,
    "execution_start": 1645026833541,
    "source_hash": "5ce2c336"
   },
   "outputs": [
    {
     "data": {
      "text/plain": [
       "0"
      ]
     },
     "execution_count": 11,
     "metadata": {},
     "output_type": "execute_result"
    }
   ],
   "source": [
    "df.duplicated().sum()"
   ]
  },
  {
   "cell_type": "markdown",
   "id": "a32238ee",
   "metadata": {
    "cell_id": "00014-42879687-3499-4c80-82a4-408c724bd7ca",
    "deepnote_cell_type": "markdown"
   },
   "source": [
    "- Tidak terdapat data yang duplicate"
   ]
  },
  {
   "cell_type": "markdown",
   "id": "57baf20b",
   "metadata": {
    "cell_id": "00015-987620e8-4453-4a39-8054-c38190810598",
    "deepnote_cell_type": "markdown"
   },
   "source": [
    "# Feature Encoding"
   ]
  },
  {
   "cell_type": "markdown",
   "id": "913c5a49",
   "metadata": {
    "cell_id": "00016-a270a55a-b1cc-4836-8457-6e895f22e125",
    "deepnote_cell_type": "markdown"
   },
   "source": [
    "## Label Encoding"
   ]
  },
  {
   "cell_type": "code",
   "execution_count": 12,
   "id": "e3f973f4",
   "metadata": {
    "cell_id": "00017-aa067dc2-c60d-4da5-8b39-1cf035d609b8",
    "deepnote_cell_type": "code",
    "deepnote_to_be_reexecuted": false,
    "execution_millis": 1,
    "execution_start": 1645026833585,
    "source_hash": "126bb810"
   },
   "outputs": [],
   "source": [
    "# buat mappingan per kategori dan di replace ke masing2 kolom\n",
    "mapping_Importance = {\n",
    "    'low' : 0,\n",
    "    'medium' : 1,\n",
    "    'high' : 2\n",
    "}\n",
    "\n",
    "df['Product_importance_labeled'] = df['Product_importance'].map(mapping_Importance)"
   ]
  },
  {
   "cell_type": "markdown",
   "id": "9947bb7f",
   "metadata": {
    "cell_id": "00018-8967f831-8ea1-4883-87a7-fe3c717780b2",
    "deepnote_cell_type": "markdown"
   },
   "source": [
    "## One Hot Encoding"
   ]
  },
  {
   "cell_type": "code",
   "execution_count": 13,
   "id": "fed7c22c",
   "metadata": {
    "cell_id": "00019-dbd80d6c-6fe2-4538-8a40-839dbffe41cb",
    "deepnote_cell_type": "code",
    "deepnote_to_be_reexecuted": false,
    "execution_millis": 0,
    "execution_start": 1645026833586,
    "source_hash": "79ed83b4"
   },
   "outputs": [],
   "source": [
    "oh_Warehouse_block = pd.get_dummies(df.Warehouse_block, prefix='Warehouse_block')\n",
    "oh_Gender = pd.get_dummies(df.Gender, prefix='Gender')\n",
    "oh_Mode_of_Shipment = pd.get_dummies(df.Mode_of_Shipment, prefix='Mode_of_Shipment')"
   ]
  },
  {
   "cell_type": "code",
   "execution_count": 14,
   "id": "9de7d5d4",
   "metadata": {
    "cell_id": "00020-a50c365f-8de8-4c1d-b887-5e32f74f225f",
    "deepnote_cell_type": "code",
    "deepnote_to_be_reexecuted": false,
    "execution_millis": 42,
    "execution_start": 1645026833587,
    "source_hash": "9292f71e"
   },
   "outputs": [],
   "source": [
    "df = df.join([oh_Warehouse_block, oh_Gender, oh_Mode_of_Shipment])"
   ]
  },
  {
   "cell_type": "code",
   "execution_count": 15,
   "id": "248ee32c",
   "metadata": {
    "cell_id": "00021-96366d98-3593-4c71-aa17-445a5d75272e",
    "deepnote_cell_type": "code",
    "deepnote_to_be_reexecuted": false,
    "execution_millis": 3,
    "execution_start": 1645026833629,
    "source_hash": "de1e323c"
   },
   "outputs": [
    {
     "name": "stdout",
     "output_type": "stream",
     "text": [
      "<class 'pandas.core.frame.DataFrame'>\n",
      "RangeIndex: 10999 entries, 0 to 10998\n",
      "Data columns (total 23 columns):\n",
      " #   Column                      Non-Null Count  Dtype \n",
      "---  ------                      --------------  ----- \n",
      " 0   ID                          10999 non-null  int64 \n",
      " 1   Warehouse_block             10999 non-null  object\n",
      " 2   Mode_of_Shipment            10999 non-null  object\n",
      " 3   Customer_care_calls         10999 non-null  int64 \n",
      " 4   Customer_rating             10999 non-null  int64 \n",
      " 5   Cost_of_the_Product         10999 non-null  int64 \n",
      " 6   Prior_purchases             10999 non-null  int64 \n",
      " 7   Product_importance          10999 non-null  object\n",
      " 8   Gender                      10999 non-null  object\n",
      " 9   Discount_offered            10999 non-null  int64 \n",
      " 10  Weight_in_gms               10999 non-null  int64 \n",
      " 11  is_shipping_late            10999 non-null  int64 \n",
      " 12  Product_importance_labeled  10999 non-null  int64 \n",
      " 13  Warehouse_block_A           10999 non-null  uint8 \n",
      " 14  Warehouse_block_B           10999 non-null  uint8 \n",
      " 15  Warehouse_block_C           10999 non-null  uint8 \n",
      " 16  Warehouse_block_D           10999 non-null  uint8 \n",
      " 17  Warehouse_block_F           10999 non-null  uint8 \n",
      " 18  Gender_F                    10999 non-null  uint8 \n",
      " 19  Gender_M                    10999 non-null  uint8 \n",
      " 20  Mode_of_Shipment_Flight     10999 non-null  uint8 \n",
      " 21  Mode_of_Shipment_Road       10999 non-null  uint8 \n",
      " 22  Mode_of_Shipment_Ship       10999 non-null  uint8 \n",
      "dtypes: int64(9), object(4), uint8(10)\n",
      "memory usage: 1.2+ MB\n"
     ]
    }
   ],
   "source": [
    "df.info()"
   ]
  },
  {
   "cell_type": "markdown",
   "id": "292e1744",
   "metadata": {
    "cell_id": "00022-7db0f916-1cac-4e84-930d-386dfd7cf889",
    "deepnote_cell_type": "markdown"
   },
   "source": [
    "# Identifikasi Outlier"
   ]
  },
  {
   "cell_type": "code",
   "execution_count": 16,
   "id": "724aa128",
   "metadata": {
    "cell_id": "00023-8a4d0622-f787-4a21-9b70-5d054db92986",
    "deepnote_cell_type": "code",
    "deepnote_output_heights": [
     368.484375
    ],
    "deepnote_to_be_reexecuted": false,
    "execution_millis": 821,
    "execution_start": 1645026833652,
    "source_hash": "97cbdcf5"
   },
   "outputs": [
    {
     "data": {
      "image/png": "[encoded data removed]",
      "text/plain": [
       "<Figure size 1440x576 with 4 Axes>"
      ]
     },
     "metadata": {
      "needs_background": "light"
     },
     "output_type": "display_data"
    }
   ],
   "source": [
    "# Identikasi outlier dengan boxplot\n",
    "plt.figure(figsize=(20,8))\n",
    "for i in range(0,len(numerical)):\n",
    "    plt.subplot(1, len(numerical), i+1)\n",
    "    sns.boxplot(y=df[numerical[i]], color='green')\n",
    "    plt.tight_layout()"
   ]
  },
  {
   "cell_type": "code",
   "execution_count": 17,
   "id": "3c73b501",
   "metadata": {
    "cell_id": "00024-f0ad29b5-4103-4fc6-a8bc-a476473e420c",
    "deepnote_cell_type": "code",
    "deepnote_to_be_reexecuted": false,
    "execution_millis": 5,
    "execution_start": 1645026834526,
    "source_hash": "fc0eb2d"
   },
   "outputs": [
    {
     "name": "stdout",
     "output_type": "stream",
     "text": [
      "Outlier is not found in column Customer_care_calls \n",
      "\n",
      "Outlier is not found in column Cost_of_the_Product \n",
      "\n",
      "High outlier is found in column Discount_offered > 19.0 \n",
      "\n",
      "Total of High Outlier in column Discount_offered : 2209 \n",
      "\n",
      "Outlier is not found in column Weight_in_gms \n",
      "\n"
     ]
    }
   ],
   "source": [
    "# Identifikasi outlier dengan IQR\n",
    "for col in numerical:\n",
    "    \n",
    "    Q1 = df[col].quantile(0.25)\n",
    "    Q3 = df[col].quantile(0.75)\n",
    "    IQR = Q3 - Q1\n",
    "    \n",
    "    nilai_min = df[col].min()\n",
    "    nilai_max = df[col].max()\n",
    "    lower_lim = Q1 - (1.5*IQR)\n",
    "    upper_lim = Q3 + (1.5*IQR)\n",
    "    \n",
    "\n",
    "    if (nilai_min < lower_lim):\n",
    "        print('Low outlier is found in column',col,'<', lower_lim,'\\n')\n",
    "        #display total low outlier \n",
    "        print('Total of Low Outlier in column',col, ':', len(list(df[df[col] < lower_lim].index)),'\\n')\n",
    "    elif (nilai_max > upper_lim):\n",
    "        print('High outlier is found in column',col,'>', upper_lim,'\\n')\n",
    "        #display total high outlier \n",
    "        print('Total of High Outlier in column',col, ':', len(list(df[df[col] > upper_lim].index)),'\\n')\n",
    "        \n",
    "    else:\n",
    "        print('Outlier is not found in column',col,'\\n')"
   ]
  },
  {
   "cell_type": "markdown",
   "id": "6b940176",
   "metadata": {
    "cell_id": "00025-a12857eb-6c96-49e1-8a3b-dd378f13c80c",
    "deepnote_cell_type": "markdown"
   },
   "source": [
    "- Terdapat outlier di kolom Discount_offered sebanyak 2209 yang hampir 30% data"
   ]
  },
  {
   "cell_type": "markdown",
   "id": "66fe5c42",
   "metadata": {
    "cell_id": "00026-0a5fc2ba-52cb-4eee-87b3-2bd3dcb828d6",
    "deepnote_cell_type": "markdown"
   },
   "source": [
    "# Imbalanced Dataset"
   ]
  },
  {
   "cell_type": "code",
   "execution_count": 18,
   "id": "868abc98",
   "metadata": {
    "cell_id": "00027-67d844e1-c8d9-415a-b492-27d9972e7ce9",
    "deepnote_cell_type": "code",
    "deepnote_output_heights": [
     59.59375
    ],
    "deepnote_to_be_reexecuted": false,
    "execution_millis": 4,
    "execution_start": 1645026834527,
    "source_hash": "6324451"
   },
   "outputs": [
    {
     "data": {
      "text/plain": [
       "True     6563\n",
       "False    4436\n",
       "Name: Reached, dtype: int64"
      ]
     },
     "execution_count": 18,
     "metadata": {},
     "output_type": "execute_result"
    }
   ],
   "source": [
    "df['Reached'] = df['is_shipping_late'] > 0.8\n",
    "df['Reached'].value_counts()"
   ]
  },
  {
   "cell_type": "markdown",
   "id": "3316603f",
   "metadata": {
    "cell_id": "00028-c9a3bdc7-172a-4720-9e50-b08aeb144ef3",
    "deepnote_cell_type": "markdown"
   },
   "source": [
    "- Tidak terdapat perbedaan yang signifikan antar data, sehingga bisa dibilang data cukup seimbang"
   ]
  },
  {
   "cell_type": "markdown",
   "id": "f2f233a0",
   "metadata": {
    "cell_id": "00029-bd88bea4-6125-4d03-a129-16341ba380de",
    "deepnote_cell_type": "markdown"
   },
   "source": [
    "# Handling Log Transformation"
   ]
  },
  {
   "cell_type": "code",
   "execution_count": 19,
   "id": "1860f603",
   "metadata": {
    "cell_id": "00030-54df78c8-5dbe-4ca2-bd36-048286e6e421",
    "deepnote_cell_type": "code",
    "deepnote_to_be_reexecuted": false,
    "execution_millis": 1,
    "execution_start": 1645026834528,
    "source_hash": "58f61038"
   },
   "outputs": [],
   "source": [
    "df['Discount_offered_log'] = np.log(df['Discount_offered'])"
   ]
  },
  {
   "cell_type": "code",
   "execution_count": 20,
   "id": "ec1a4ac7",
   "metadata": {
    "cell_id": "00031-2d168373-a95d-44ac-8b67-c1d8ae1c224b",
    "deepnote_cell_type": "code",
    "deepnote_to_be_reexecuted": false,
    "execution_millis": 0,
    "execution_start": 1645026834564,
    "source_hash": "bf04d879"
   },
   "outputs": [],
   "source": [
    "df['Discount_offered_oh1'] = df['Discount_offered']"
   ]
  },
  {
   "cell_type": "code",
   "execution_count": 21,
   "id": "603c53d8",
   "metadata": {
    "cell_id": "00032-25500b0e-8a4d-4a6d-8897-88fba8bb2d58",
    "deepnote_cell_type": "code",
    "deepnote_to_be_reexecuted": false,
    "execution_millis": 1,
    "execution_start": 1645026834565,
    "source_hash": "e73c418a"
   },
   "outputs": [],
   "source": [
    "for col in ['Discount_offered_oh1']:\n",
    "    Q1 = df[col].quantile(0.25)\n",
    "    Q3 = df[col].quantile(0.75)\n",
    "    IQR = Q3 - Q1\n",
    "    lower_bound = Q1 - (IQR * 1.5)\n",
    "    upper_bound = Q3 + (IQR * 1.5)\n",
    "\n",
    "    df[col] = np.where(df[col] >= upper_bound,\n",
    "                         upper_bound, df[col])\n",
    "    df[col] = np.where(df[col] <= lower_bound,\n",
    "                         lower_bound, df[col])"
   ]
  },
  {
   "cell_type": "code",
   "execution_count": 22,
   "id": "a2988598",
   "metadata": {
    "cell_id": "00033-acb9f1b9-cf6a-4d72-9188-61fed0f2c99b",
    "deepnote_cell_type": "code",
    "deepnote_to_be_reexecuted": false,
    "execution_millis": 2,
    "execution_start": 1645026834566,
    "source_hash": "db109d17"
   },
   "outputs": [],
   "source": [
    "hanya_labeling = ['Customer_care_calls', 'Customer_rating',\n",
    "                  'Cost_of_the_Product', 'Prior_purchases', 'Discount_offered', 'Weight_in_gms',\n",
    "                  'Product_importance_labeled', 'Warehouse_block_A', 'Warehouse_block_B',\n",
    "                  'Warehouse_block_C', 'Warehouse_block_D', 'Warehouse_block_F', 'Gender_F',\n",
    "                  'Gender_M', 'Mode_of_Shipment_Flight','Mode_of_Shipment_Road', 'Mode_of_Shipment_Ship',\n",
    "                  'is_shipping_late']\n",
    "dengan_oh1 = ['Customer_care_calls', 'Customer_rating',\n",
    "                  'Cost_of_the_Product', 'Prior_purchases', 'Discount_offered_oh1', 'Weight_in_gms',\n",
    "                  'Product_importance_labeled', 'Warehouse_block_A', 'Warehouse_block_B',\n",
    "                  'Warehouse_block_C', 'Warehouse_block_D', 'Warehouse_block_F', 'Gender_F',\n",
    "                  'Gender_M', 'Mode_of_Shipment_Flight','Mode_of_Shipment_Road', 'Mode_of_Shipment_Ship',\n",
    "                  'is_shipping_late']\n",
    "dengan_log = ['Customer_care_calls', 'Customer_rating',\n",
    "                  'Cost_of_the_Product', 'Prior_purchases', 'Discount_offered_log', 'Weight_in_gms',\n",
    "                  'Product_importance_labeled', 'Warehouse_block_A', 'Warehouse_block_B',\n",
    "                  'Warehouse_block_C', 'Warehouse_block_D', 'Warehouse_block_F', 'Gender_F',\n",
    "                  'Gender_M', 'Mode_of_Shipment_Flight','Mode_of_Shipment_Road', 'Mode_of_Shipment_Ship',\n",
    "                  'is_shipping_late']"
   ]
  },
  {
   "cell_type": "code",
   "execution_count": 23,
   "id": "1c0d03dd",
   "metadata": {
    "cell_id": "00034-ab22d000-ee86-44a2-b5c5-61c5976beb06",
    "deepnote_cell_type": "code",
    "deepnote_to_be_reexecuted": false,
    "execution_millis": 70,
    "execution_start": 1645026834572,
    "source_hash": "b8b486c7"
   },
   "outputs": [
    {
     "name": "stdout",
     "output_type": "stream",
     "text": [
      "<class 'pandas.core.frame.DataFrame'>\n",
      "RangeIndex: 10999 entries, 0 to 10998\n",
      "Data columns (total 18 columns):\n",
      " #   Column                      Non-Null Count  Dtype\n",
      "---  ------                      --------------  -----\n",
      " 0   Customer_care_calls         10999 non-null  int64\n",
      " 1   Customer_rating             10999 non-null  int64\n",
      " 2   Cost_of_the_Product         10999 non-null  int64\n",
      " 3   Prior_purchases             10999 non-null  int64\n",
      " 4   Discount_offered            10999 non-null  int64\n",
      " 5   Weight_in_gms               10999 non-null  int64\n",
      " 6   Product_importance_labeled  10999 non-null  int64\n",
      " 7   Warehouse_block_A           10999 non-null  uint8\n",
      " 8   Warehouse_block_B           10999 non-null  uint8\n",
      " 9   Warehouse_block_C           10999 non-null  uint8\n",
      " 10  Warehouse_block_D           10999 non-null  uint8\n",
      " 11  Warehouse_block_F           10999 non-null  uint8\n",
      " 12  Gender_F                    10999 non-null  uint8\n",
      " 13  Gender_M                    10999 non-null  uint8\n",
      " 14  Mode_of_Shipment_Flight     10999 non-null  uint8\n",
      " 15  Mode_of_Shipment_Road       10999 non-null  uint8\n",
      " 16  Mode_of_Shipment_Ship       10999 non-null  uint8\n",
      " 17  is_shipping_late            10999 non-null  int64\n",
      "dtypes: int64(8), uint8(10)\n",
      "memory usage: 795.0 KB\n"
     ]
    }
   ],
   "source": [
    "# hanya labelling\n",
    "df_a = df[hanya_labeling]\n",
    "df_a.info()\n",
    "df_a.to_csv('only_label.csv', index_label=False)"
   ]
  },
  {
   "cell_type": "code",
   "execution_count": 24,
   "id": "d572cdd5",
   "metadata": {
    "cell_id": "00035-39be4815-cfd1-4b1f-a35a-8e12852db662",
    "deepnote_cell_type": "code",
    "deepnote_to_be_reexecuted": false,
    "execution_millis": 93,
    "execution_start": 1645026834644,
    "source_hash": "f21f5079"
   },
   "outputs": [
    {
     "name": "stdout",
     "output_type": "stream",
     "text": [
      "<class 'pandas.core.frame.DataFrame'>\n",
      "RangeIndex: 10999 entries, 0 to 10998\n",
      "Data columns (total 18 columns):\n",
      " #   Column                      Non-Null Count  Dtype  \n",
      "---  ------                      --------------  -----  \n",
      " 0   Customer_care_calls         10999 non-null  int64  \n",
      " 1   Customer_rating             10999 non-null  int64  \n",
      " 2   Cost_of_the_Product         10999 non-null  int64  \n",
      " 3   Prior_purchases             10999 non-null  int64  \n",
      " 4   Discount_offered_oh1        10999 non-null  float64\n",
      " 5   Weight_in_gms               10999 non-null  int64  \n",
      " 6   Product_importance_labeled  10999 non-null  int64  \n",
      " 7   Warehouse_block_A           10999 non-null  uint8  \n",
      " 8   Warehouse_block_B           10999 non-null  uint8  \n",
      " 9   Warehouse_block_C           10999 non-null  uint8  \n",
      " 10  Warehouse_block_D           10999 non-null  uint8  \n",
      " 11  Warehouse_block_F           10999 non-null  uint8  \n",
      " 12  Gender_F                    10999 non-null  uint8  \n",
      " 13  Gender_M                    10999 non-null  uint8  \n",
      " 14  Mode_of_Shipment_Flight     10999 non-null  uint8  \n",
      " 15  Mode_of_Shipment_Road       10999 non-null  uint8  \n",
      " 16  Mode_of_Shipment_Ship       10999 non-null  uint8  \n",
      " 17  is_shipping_late            10999 non-null  int64  \n",
      "dtypes: float64(1), int64(7), uint8(10)\n",
      "memory usage: 795.0 KB\n"
     ]
    }
   ],
   "source": [
    "# hanya labelling + dengan outliers handling\n",
    "df_b = df[dengan_oh1]\n",
    "df_b.info()\n",
    "df_b.to_csv('dengan_oh1.csv', index_label=False)"
   ]
  },
  {
   "cell_type": "code",
   "execution_count": 25,
   "id": "09b2d66a",
   "metadata": {
    "cell_id": "00036-fa396f42-c780-4e96-bef9-01a63656044e",
    "deepnote_cell_type": "code",
    "deepnote_to_be_reexecuted": false,
    "execution_millis": 455,
    "execution_start": 1645026834741,
    "source_hash": "5a831ac1"
   },
   "outputs": [
    {
     "name": "stdout",
     "output_type": "stream",
     "text": [
      "<class 'pandas.core.frame.DataFrame'>\n",
      "RangeIndex: 10999 entries, 0 to 10998\n",
      "Data columns (total 18 columns):\n",
      " #   Column                      Non-Null Count  Dtype  \n",
      "---  ------                      --------------  -----  \n",
      " 0   Customer_care_calls         10999 non-null  int64  \n",
      " 1   Customer_rating             10999 non-null  int64  \n",
      " 2   Cost_of_the_Product         10999 non-null  int64  \n",
      " 3   Prior_purchases             10999 non-null  int64  \n",
      " 4   Discount_offered_log        10999 non-null  float64\n",
      " 5   Weight_in_gms               10999 non-null  int64  \n",
      " 6   Product_importance_labeled  10999 non-null  int64  \n",
      " 7   Warehouse_block_A           10999 non-null  uint8  \n",
      " 8   Warehouse_block_B           10999 non-null  uint8  \n",
      " 9   Warehouse_block_C           10999 non-null  uint8  \n",
      " 10  Warehouse_block_D           10999 non-null  uint8  \n",
      " 11  Warehouse_block_F           10999 non-null  uint8  \n",
      " 12  Gender_F                    10999 non-null  uint8  \n",
      " 13  Gender_M                    10999 non-null  uint8  \n",
      " 14  Mode_of_Shipment_Flight     10999 non-null  uint8  \n",
      " 15  Mode_of_Shipment_Road       10999 non-null  uint8  \n",
      " 16  Mode_of_Shipment_Ship       10999 non-null  uint8  \n",
      " 17  is_shipping_late            10999 non-null  int64  \n",
      "dtypes: float64(1), int64(7), uint8(10)\n",
      "memory usage: 795.0 KB\n"
     ]
    }
   ],
   "source": [
    "# hanya labelling + Discount_offered_log \n",
    "df_c = df[dengan_log]\n",
    "df_c.info()\n",
    "df_c.to_csv('dengan_log.csv', index_label=False)"
   ]
  },
  {
   "cell_type": "code",
   "execution_count": 26,
   "id": "62193892",
   "metadata": {
    "cell_id": "00037-c0465300-61e6-40f4-9077-9f6a429a6c6b",
    "deepnote_cell_type": "code",
    "deepnote_output_heights": [
     232.40625
    ],
    "deepnote_to_be_reexecuted": false,
    "execution_millis": 348,
    "execution_start": 1645026834868,
    "source_hash": "13887490"
   },
   "outputs": [
    {
     "data": {
      "text/plain": [
       "0        1\n",
       "1        1\n",
       "2        1\n",
       "3        1\n",
       "4        1\n",
       "        ..\n",
       "10994    1\n",
       "10995    0\n",
       "10996    0\n",
       "10997    0\n",
       "10998    0\n",
       "Name: is_shipping_late, Length: 10999, dtype: int64"
      ]
     },
     "execution_count": 26,
     "metadata": {},
     "output_type": "execute_result"
    }
   ],
   "source": [
    "df.is_shipping_late"
   ]
  },
  {
   "cell_type": "code",
   "execution_count": 27,
   "id": "c972a1f3-7e80-421a-b910-c8e6e4bbd8d5",
   "metadata": {},
   "outputs": [
    {
     "data": {
      "text/html": [
       "<div>\n",
       "<style scoped>\n",
       "    .dataframe tbody tr th:only-of-type {\n",
       "        vertical-align: middle;\n",
       "    }\n",
       "\n",
       "    .dataframe tbody tr th {\n",
       "        vertical-align: top;\n",
       "    }\n",
       "\n",
       "    .dataframe thead th {\n",
       "        text-align: right;\n",
       "    }\n",
       "</style>\n",
       "<table border=\"1\" class=\"dataframe\">\n",
       "  <thead>\n",
       "    <tr style=\"text-align: right;\">\n",
       "      <th></th>\n",
       "      <th>Customer_care_calls</th>\n",
       "      <th>Customer_rating</th>\n",
       "      <th>Cost_of_the_Product</th>\n",
       "      <th>Prior_purchases</th>\n",
       "      <th>Discount_offered_oh1</th>\n",
       "      <th>Weight_in_gms</th>\n",
       "      <th>Product_importance_labeled</th>\n",
       "      <th>Warehouse_block_A</th>\n",
       "      <th>Warehouse_block_B</th>\n",
       "      <th>Warehouse_block_C</th>\n",
       "      <th>Warehouse_block_D</th>\n",
       "      <th>Warehouse_block_F</th>\n",
       "      <th>Gender_F</th>\n",
       "      <th>Gender_M</th>\n",
       "      <th>Mode_of_Shipment_Flight</th>\n",
       "      <th>Mode_of_Shipment_Road</th>\n",
       "      <th>Mode_of_Shipment_Ship</th>\n",
       "      <th>is_shipping_late</th>\n",
       "    </tr>\n",
       "  </thead>\n",
       "  <tbody>\n",
       "    <tr>\n",
       "      <th>0</th>\n",
       "      <td>4</td>\n",
       "      <td>2</td>\n",
       "      <td>177</td>\n",
       "      <td>3</td>\n",
       "      <td>19.0</td>\n",
       "      <td>1233</td>\n",
       "      <td>0</td>\n",
       "      <td>0</td>\n",
       "      <td>0</td>\n",
       "      <td>0</td>\n",
       "      <td>1</td>\n",
       "      <td>0</td>\n",
       "      <td>1</td>\n",
       "      <td>0</td>\n",
       "      <td>1</td>\n",
       "      <td>0</td>\n",
       "      <td>0</td>\n",
       "      <td>1</td>\n",
       "    </tr>\n",
       "    <tr>\n",
       "      <th>1</th>\n",
       "      <td>4</td>\n",
       "      <td>5</td>\n",
       "      <td>216</td>\n",
       "      <td>2</td>\n",
       "      <td>19.0</td>\n",
       "      <td>3088</td>\n",
       "      <td>0</td>\n",
       "      <td>0</td>\n",
       "      <td>0</td>\n",
       "      <td>0</td>\n",
       "      <td>0</td>\n",
       "      <td>1</td>\n",
       "      <td>0</td>\n",
       "      <td>1</td>\n",
       "      <td>1</td>\n",
       "      <td>0</td>\n",
       "      <td>0</td>\n",
       "      <td>1</td>\n",
       "    </tr>\n",
       "    <tr>\n",
       "      <th>2</th>\n",
       "      <td>2</td>\n",
       "      <td>2</td>\n",
       "      <td>183</td>\n",
       "      <td>4</td>\n",
       "      <td>19.0</td>\n",
       "      <td>3374</td>\n",
       "      <td>0</td>\n",
       "      <td>1</td>\n",
       "      <td>0</td>\n",
       "      <td>0</td>\n",
       "      <td>0</td>\n",
       "      <td>0</td>\n",
       "      <td>0</td>\n",
       "      <td>1</td>\n",
       "      <td>1</td>\n",
       "      <td>0</td>\n",
       "      <td>0</td>\n",
       "      <td>1</td>\n",
       "    </tr>\n",
       "    <tr>\n",
       "      <th>3</th>\n",
       "      <td>3</td>\n",
       "      <td>3</td>\n",
       "      <td>176</td>\n",
       "      <td>4</td>\n",
       "      <td>10.0</td>\n",
       "      <td>1177</td>\n",
       "      <td>1</td>\n",
       "      <td>0</td>\n",
       "      <td>1</td>\n",
       "      <td>0</td>\n",
       "      <td>0</td>\n",
       "      <td>0</td>\n",
       "      <td>0</td>\n",
       "      <td>1</td>\n",
       "      <td>1</td>\n",
       "      <td>0</td>\n",
       "      <td>0</td>\n",
       "      <td>1</td>\n",
       "    </tr>\n",
       "    <tr>\n",
       "      <th>4</th>\n",
       "      <td>2</td>\n",
       "      <td>2</td>\n",
       "      <td>184</td>\n",
       "      <td>3</td>\n",
       "      <td>19.0</td>\n",
       "      <td>2484</td>\n",
       "      <td>1</td>\n",
       "      <td>0</td>\n",
       "      <td>0</td>\n",
       "      <td>1</td>\n",
       "      <td>0</td>\n",
       "      <td>0</td>\n",
       "      <td>1</td>\n",
       "      <td>0</td>\n",
       "      <td>1</td>\n",
       "      <td>0</td>\n",
       "      <td>0</td>\n",
       "      <td>1</td>\n",
       "    </tr>\n",
       "    <tr>\n",
       "      <th>...</th>\n",
       "      <td>...</td>\n",
       "      <td>...</td>\n",
       "      <td>...</td>\n",
       "      <td>...</td>\n",
       "      <td>...</td>\n",
       "      <td>...</td>\n",
       "      <td>...</td>\n",
       "      <td>...</td>\n",
       "      <td>...</td>\n",
       "      <td>...</td>\n",
       "      <td>...</td>\n",
       "      <td>...</td>\n",
       "      <td>...</td>\n",
       "      <td>...</td>\n",
       "      <td>...</td>\n",
       "      <td>...</td>\n",
       "      <td>...</td>\n",
       "      <td>...</td>\n",
       "    </tr>\n",
       "    <tr>\n",
       "      <th>10994</th>\n",
       "      <td>4</td>\n",
       "      <td>1</td>\n",
       "      <td>252</td>\n",
       "      <td>5</td>\n",
       "      <td>1.0</td>\n",
       "      <td>1538</td>\n",
       "      <td>1</td>\n",
       "      <td>1</td>\n",
       "      <td>0</td>\n",
       "      <td>0</td>\n",
       "      <td>0</td>\n",
       "      <td>0</td>\n",
       "      <td>1</td>\n",
       "      <td>0</td>\n",
       "      <td>0</td>\n",
       "      <td>0</td>\n",
       "      <td>1</td>\n",
       "      <td>1</td>\n",
       "    </tr>\n",
       "    <tr>\n",
       "      <th>10995</th>\n",
       "      <td>4</td>\n",
       "      <td>1</td>\n",
       "      <td>232</td>\n",
       "      <td>5</td>\n",
       "      <td>6.0</td>\n",
       "      <td>1247</td>\n",
       "      <td>1</td>\n",
       "      <td>0</td>\n",
       "      <td>1</td>\n",
       "      <td>0</td>\n",
       "      <td>0</td>\n",
       "      <td>0</td>\n",
       "      <td>1</td>\n",
       "      <td>0</td>\n",
       "      <td>0</td>\n",
       "      <td>0</td>\n",
       "      <td>1</td>\n",
       "      <td>0</td>\n",
       "    </tr>\n",
       "    <tr>\n",
       "      <th>10996</th>\n",
       "      <td>5</td>\n",
       "      <td>4</td>\n",
       "      <td>242</td>\n",
       "      <td>5</td>\n",
       "      <td>4.0</td>\n",
       "      <td>1155</td>\n",
       "      <td>0</td>\n",
       "      <td>0</td>\n",
       "      <td>0</td>\n",
       "      <td>1</td>\n",
       "      <td>0</td>\n",
       "      <td>0</td>\n",
       "      <td>1</td>\n",
       "      <td>0</td>\n",
       "      <td>0</td>\n",
       "      <td>0</td>\n",
       "      <td>1</td>\n",
       "      <td>0</td>\n",
       "    </tr>\n",
       "    <tr>\n",
       "      <th>10997</th>\n",
       "      <td>5</td>\n",
       "      <td>2</td>\n",
       "      <td>223</td>\n",
       "      <td>6</td>\n",
       "      <td>2.0</td>\n",
       "      <td>1210</td>\n",
       "      <td>1</td>\n",
       "      <td>0</td>\n",
       "      <td>0</td>\n",
       "      <td>0</td>\n",
       "      <td>0</td>\n",
       "      <td>1</td>\n",
       "      <td>0</td>\n",
       "      <td>1</td>\n",
       "      <td>0</td>\n",
       "      <td>0</td>\n",
       "      <td>1</td>\n",
       "      <td>0</td>\n",
       "    </tr>\n",
       "    <tr>\n",
       "      <th>10998</th>\n",
       "      <td>2</td>\n",
       "      <td>5</td>\n",
       "      <td>155</td>\n",
       "      <td>5</td>\n",
       "      <td>6.0</td>\n",
       "      <td>1639</td>\n",
       "      <td>0</td>\n",
       "      <td>0</td>\n",
       "      <td>0</td>\n",
       "      <td>0</td>\n",
       "      <td>1</td>\n",
       "      <td>0</td>\n",
       "      <td>1</td>\n",
       "      <td>0</td>\n",
       "      <td>0</td>\n",
       "      <td>0</td>\n",
       "      <td>1</td>\n",
       "      <td>0</td>\n",
       "    </tr>\n",
       "  </tbody>\n",
       "</table>\n",
       "<p>10999 rows × 18 columns</p>\n",
       "</div>"
      ],
      "text/plain": [
       "       Customer_care_calls  Customer_rating  Cost_of_the_Product  \\\n",
       "0                        4                2                  177   \n",
       "1                        4                5                  216   \n",
       "2                        2                2                  183   \n",
       "3                        3                3                  176   \n",
       "4                        2                2                  184   \n",
       "...                    ...              ...                  ...   \n",
       "10994                    4                1                  252   \n",
       "10995                    4                1                  232   \n",
       "10996                    5                4                  242   \n",
       "10997                    5                2                  223   \n",
       "10998                    2                5                  155   \n",
       "\n",
       "       Prior_purchases  Discount_offered_oh1  Weight_in_gms  \\\n",
       "0                    3                  19.0           1233   \n",
       "1                    2                  19.0           3088   \n",
       "2                    4                  19.0           3374   \n",
       "3                    4                  10.0           1177   \n",
       "4                    3                  19.0           2484   \n",
       "...                ...                   ...            ...   \n",
       "10994                5                   1.0           1538   \n",
       "10995                5                   6.0           1247   \n",
       "10996                5                   4.0           1155   \n",
       "10997                6                   2.0           1210   \n",
       "10998                5                   6.0           1639   \n",
       "\n",
       "       Product_importance_labeled  Warehouse_block_A  Warehouse_block_B  \\\n",
       "0                               0                  0                  0   \n",
       "1                               0                  0                  0   \n",
       "2                               0                  1                  0   \n",
       "3                               1                  0                  1   \n",
       "4                               1                  0                  0   \n",
       "...                           ...                ...                ...   \n",
       "10994                           1                  1                  0   \n",
       "10995                           1                  0                  1   \n",
       "10996                           0                  0                  0   \n",
       "10997                           1                  0                  0   \n",
       "10998                           0                  0                  0   \n",
       "\n",
       "       Warehouse_block_C  Warehouse_block_D  Warehouse_block_F  Gender_F  \\\n",
       "0                      0                  1                  0         1   \n",
       "1                      0                  0                  1         0   \n",
       "2                      0                  0                  0         0   \n",
       "3                      0                  0                  0         0   \n",
       "4                      1                  0                  0         1   \n",
       "...                  ...                ...                ...       ...   \n",
       "10994                  0                  0                  0         1   \n",
       "10995                  0                  0                  0         1   \n",
       "10996                  1                  0                  0         1   \n",
       "10997                  0                  0                  1         0   \n",
       "10998                  0                  1                  0         1   \n",
       "\n",
       "       Gender_M  Mode_of_Shipment_Flight  Mode_of_Shipment_Road  \\\n",
       "0             0                        1                      0   \n",
       "1             1                        1                      0   \n",
       "2             1                        1                      0   \n",
       "3             1                        1                      0   \n",
       "4             0                        1                      0   \n",
       "...         ...                      ...                    ...   \n",
       "10994         0                        0                      0   \n",
       "10995         0                        0                      0   \n",
       "10996         0                        0                      0   \n",
       "10997         1                        0                      0   \n",
       "10998         0                        0                      0   \n",
       "\n",
       "       Mode_of_Shipment_Ship  is_shipping_late  \n",
       "0                          0                 1  \n",
       "1                          0                 1  \n",
       "2                          0                 1  \n",
       "3                          0                 1  \n",
       "4                          0                 1  \n",
       "...                      ...               ...  \n",
       "10994                      1                 1  \n",
       "10995                      1                 0  \n",
       "10996                      1                 0  \n",
       "10997                      1                 0  \n",
       "10998                      1                 0  \n",
       "\n",
       "[10999 rows x 18 columns]"
      ]
     },
     "execution_count": 27,
     "metadata": {},
     "output_type": "execute_result"
    }
   ],
   "source": [
    "df_b"
   ]
  },
  {
   "cell_type": "markdown",
   "id": "1bb4f315-7e74-4959-a3f5-f3d81d242e6f",
   "metadata": {},
   "source": [
    "# Random Forest Classification"
   ]
  },
  {
   "cell_type": "code",
   "execution_count": 28,
   "id": "29e68f34-0efe-4594-af61-de65729de898",
   "metadata": {},
   "outputs": [
    {
     "name": "stdout",
     "output_type": "stream",
     "text": [
      "Accuracy (Test Set Data A): 0.67\n"
     ]
    }
   ],
   "source": [
    "#df_a\n",
    "\n",
    "# Split Train Test Data\n",
    "from sklearn.model_selection import train_test_split\n",
    "\n",
    "X = df_a.drop(columns=['is_shipping_late'])\n",
    "y = df_a['is_shipping_late']\n",
    "\n",
    "X_train, X_test, y_train, y_test = train_test_split(X,y,test_size = 0.3,random_state = 42)\n",
    "\n",
    "# Fit & Predict\n",
    "from sklearn.ensemble import RandomForestClassifier\n",
    "from sklearn.metrics import accuracy_score\n",
    "rfc = RandomForestClassifier(random_state=42)\n",
    "rfc.fit(X_train, y_train)\n",
    "y_pred=rfc.predict(X_test)\n",
    "print(\"Accuracy (Test Set Data A): %.2f\" % accuracy_score(y_test, y_pred))"
   ]
  },
  {
   "cell_type": "code",
   "execution_count": 29,
   "id": "749984b7-0e64-4b3b-b0b2-51cc8a1fcb4e",
   "metadata": {},
   "outputs": [
    {
     "name": "stdout",
     "output_type": "stream",
     "text": [
      "Accuracy (Test Set Data B): 0.67\n"
     ]
    }
   ],
   "source": [
    "#df_b\n",
    "\n",
    "# Split Train Test Data\n",
    "from sklearn.model_selection import train_test_split\n",
    "\n",
    "X = df_b.drop(columns=['is_shipping_late'])\n",
    "y = df_b['is_shipping_late']\n",
    "\n",
    "X_train, X_test, y_train, y_test = train_test_split(X,y,test_size = 0.3,random_state = 42)\n",
    "\n",
    "# Fit & Predict\n",
    "from sklearn.ensemble import RandomForestClassifier\n",
    "from sklearn.metrics import accuracy_score\n",
    "rfc = RandomForestClassifier(random_state=42)\n",
    "rfc.fit(X_train, y_train)\n",
    "y_pred=rfc.predict(X_test)\n",
    "print(\"Accuracy (Test Set Data B): %.2f\" % accuracy_score(y_test, y_pred))"
   ]
  },
  {
   "cell_type": "code",
   "execution_count": 30,
   "id": "318f08c2-ef10-4035-9666-08e59bccd429",
   "metadata": {},
   "outputs": [
    {
     "name": "stdout",
     "output_type": "stream",
     "text": [
      "Accuracy (Test Set Data C): 0.67\n"
     ]
    }
   ],
   "source": [
    "#df_c\n",
    "\n",
    "# Split Train Test Data\n",
    "from sklearn.model_selection import train_test_split\n",
    "\n",
    "X = df_c.drop(columns=['is_shipping_late'])\n",
    "y = df_c['is_shipping_late']\n",
    "\n",
    "X_train, X_test, y_train, y_test = train_test_split(X,y,test_size = 0.3,random_state = 42)\n",
    "\n",
    "# Fit & Predict\n",
    "from sklearn.ensemble import RandomForestClassifier\n",
    "from sklearn.metrics import accuracy_score\n",
    "rfc = RandomForestClassifier(random_state=42)\n",
    "rfc.fit(X_train, y_train)\n",
    "y_pred=rfc.predict(X_test)\n",
    "print(\"Accuracy (Test Set Data C): %.2f\" % accuracy_score(y_test, y_pred))"
   ]
  },
  {
   "cell_type": "markdown",
   "id": "15a2c693-03ac-4bec-9fc5-1569bf2a300d",
   "metadata": {},
   "source": [
    "# Hyperparameter Tuning"
   ]
  },
  {
   "cell_type": "code",
   "execution_count": 31,
   "id": "f4ee9878-cce7-4a67-83e8-879469c6b8d3",
   "metadata": {},
   "outputs": [
    {
     "data": {
      "text/plain": [
       "RandomizedSearchCV(cv=5, estimator=RandomForestClassifier(), n_iter=100,\n",
       "                   param_distributions={'max_depth': [1, 4, 8, 12, 16, 19, 23,\n",
       "                                                      27, 31, 34, 38, 42, 46,\n",
       "                                                      49, 53, 57, 61, 64, 68,\n",
       "                                                      72, 76, 79, 83, 87, 91,\n",
       "                                                      94, 98, 102, 106, 110],\n",
       "                                        'max_features': ['auto', 'sqrt'],\n",
       "                                        'min_samples_leaf': [1, 2, 4, 10, 20,\n",
       "                                                             50],\n",
       "                                        'min_samples_split': [2, 5, 10, 100],\n",
       "                                        'n_estimators': [5, 20, 50, 100]},\n",
       "                   random_state=42, scoring='accuracy')"
      ]
     },
     "execution_count": 31,
     "metadata": {},
     "output_type": "execute_result"
    }
   ],
   "source": [
    "from sklearn.model_selection import RandomizedSearchCV\n",
    "from scipy.stats import uniform\n",
    "import numpy as np\n",
    "\n",
    "n_estimators = [5,20,50,100] # number of trees in the random forest\n",
    "max_depth = [int(x) for x in np.linspace(1, 110, num = 30)] # Maximum number of levels in tree\n",
    "min_samples_split = [2, 5, 10, 100] # Minimum number of samples required to split a node\n",
    "min_samples_leaf = [1, 2, 4, 10, 20, 50] # Minimum number of samples required at each leaf node\n",
    "max_features = ['auto', 'sqrt'] # Number of features to consider at every split\n",
    "\n",
    "hyperparameters = dict(n_estimators=n_estimators,\n",
    "                       max_depth=max_depth, \n",
    "                       min_samples_split=min_samples_split, \n",
    "                       min_samples_leaf=min_samples_leaf,\n",
    "                       max_features=max_features\n",
    "                      )\n",
    "\n",
    "rf = RandomForestClassifier()\n",
    "rf_random = RandomizedSearchCV(rf, hyperparameters, n_iter = 100, cv=5, random_state=42, scoring='accuracy')\n",
    "rf_random.fit(X_train, y_train)"
   ]
  },
  {
   "cell_type": "markdown",
   "id": "e3248830-e41d-480f-a6b0-bc33cc826e18",
   "metadata": {},
   "source": [
    "# Print the best parameters"
   ]
  },
  {
   "cell_type": "code",
   "execution_count": 32,
   "id": "439f1b48-6a87-4b25-8890-d4892ba3eda2",
   "metadata": {},
   "outputs": [
    {
     "name": "stdout",
     "output_type": "stream",
     "text": [
      "Random grid:  {'n_estimators': [5, 20, 50, 100], 'max_depth': [1, 4, 8, 12, 16, 19, 23, 27, 31, 34, 38, 42, 46, 49, 53, 57, 61, 64, 68, 72, 76, 79, 83, 87, 91, 94, 98, 102, 106, 110], 'min_samples_split': [2, 5, 10, 100], 'min_samples_leaf': [1, 2, 4, 10, 20, 50], 'max_features': ['auto', 'sqrt']} \n",
      "\n",
      "Best Parameters:  {'n_estimators': 100, 'min_samples_split': 100, 'min_samples_leaf': 4, 'max_features': 'sqrt', 'max_depth': 34}  \n",
      "\n"
     ]
    }
   ],
   "source": [
    "print ('Random grid: ', hyperparameters, '\\n')\n",
    "# print the best parameters\n",
    "print ('Best Parameters: ', rf_random.best_params_, ' \\n')"
   ]
  },
  {
   "cell_type": "markdown",
   "id": "f33a6080-4998-4dd4-bab5-b538729319b6",
   "metadata": {},
   "source": [
    "# Using best parameter"
   ]
  },
  {
   "cell_type": "code",
   "execution_count": 33,
   "id": "a4b20f03-a87c-4577-9eae-1c292c468af0",
   "metadata": {},
   "outputs": [
    {
     "data": {
      "text/plain": [
       "RandomForestClassifier(max_depth=34, max_features='sqrt', min_samples_leaf=4,\n",
       "                       min_samples_split=100)"
      ]
     },
     "execution_count": 33,
     "metadata": {},
     "output_type": "execute_result"
    }
   ],
   "source": [
    "randmf = RandomForestClassifier(n_estimators = 100, min_samples_split = 100, min_samples_leaf= 4, max_features = 'sqrt', max_depth= 34) \n",
    "randmf.fit(X_train, y_train) "
   ]
  },
  {
   "cell_type": "code",
   "execution_count": 34,
   "id": "8bd01fa5-3203-4ef7-83c9-3d7760bd2b52",
   "metadata": {},
   "outputs": [
    {
     "name": "stdout",
     "output_type": "stream",
     "text": [
      "Accuracy (Best): 0.67\n"
     ]
    }
   ],
   "source": [
    "y_pred_best=randmf.predict(X_test)\n",
    "print(\"Accuracy (Best): %.2f\" % accuracy_score(y_test, y_pred))"
   ]
  },
  {
   "cell_type": "code",
   "execution_count": 35,
   "id": "357225b5-9830-4865-8aec-e571c5b8ea5f",
   "metadata": {},
   "outputs": [
    {
     "data": {
      "text/plain": [
       "Text(0.5, 1.0, 'feature importance score')"
      ]
     },
     "execution_count": 35,
     "metadata": {},
     "output_type": "execute_result"
    },
    {
     "data": {
      "image/png": "[encoded data removed]",
      "text/plain": [
       "<Figure size 720x576 with 1 Axes>"
      ]
     },
     "metadata": {
      "needs_background": "light"
     },
     "output_type": "display_data"
    }
   ],
   "source": [
    "feat_importances = pd.Series(randmf.feature_importances_, index=X.columns)\n",
    "ax = feat_importances.nlargest(25).plot(kind='barh', figsize=(10, 8))\n",
    "ax.invert_yaxis()\n",
    "\n",
    "plt.xlabel('score')\n",
    "plt.ylabel('feature')\n",
    "plt.title('feature importance score')"
   ]
  },
  {
   "cell_type": "code",
   "execution_count": null,
   "id": "ddc68a00-2977-4a5e-abd7-a354a6331631",
   "metadata": {},
   "outputs": [],
   "source": []
  }
 ],
 "metadata": {
  "deepnote": {},
  "deepnote_execution_queue": [],
  "deepnote_notebook_id": "eec9ff84-75d0-4b45-a733-cd45e89e0c6b",
  "kernelspec": {
   "display_name": "Python 3",
   "language": "python",
   "name": "python3"
  },
  "language_info": {
   "codemirror_mode": {
    "name": "ipython",
    "version": 3
   },
   "file_extension": ".py",
   "mimetype": "text/x-python",
   "name": "python",
   "nbconvert_exporter": "python",
   "pygments_lexer": "ipython3",
   "version": "3.8.8"
  }
 },
 "nbformat": 4,
 "nbformat_minor": 5
}
